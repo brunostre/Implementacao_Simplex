{
  "nbformat": 4,
  "nbformat_minor": 0,
  "metadata": {
    "colab": {
      "name": "Tarefa8_168170_186543.ipynb",
      "provenance": [],
      "collapsed_sections": [],
      "toc_visible": true,
      "include_colab_link": true
    },
    "kernelspec": {
      "name": "python3",
      "display_name": "Python 3"
    }
  },
  "cells": [
    {
      "cell_type": "markdown",
      "metadata": {
        "id": "view-in-github",
        "colab_type": "text"
      },
      "source": [
        "<a href=\"https://colab.research.google.com/github/brunostre/imp/blob/main/implementacao_simplex.ipynb\" target=\"_parent\"><img src=\"https://colab.research.google.com/assets/colab-badge.svg\" alt=\"Open In Colab\"/></a>"
      ]
    },
    {
      "cell_type": "markdown",
      "metadata": {
        "id": "U-gUmxkeMz2w"
      },
      "source": [
        "Tarefa 8 - Projeto Computacional\n",
        "==="
      ]
    },
    {
      "cell_type": "markdown",
      "metadata": {
        "id": "lw8q1pLzCoaS"
      },
      "source": [
        "--------\n",
        "\n",
        "Bruno Stevanato Trevisan 168170\n",
        "\n",
        "Renata Trevisan Watanabe 186543\n",
        "\n",
        "\"Ohana quer dizer família. Família quer dizer nunca abandonar ou esquecer\"\n",
        "\n",
        "--------"
      ]
    },
    {
      "cell_type": "markdown",
      "metadata": {
        "id": "RAapAmyHlI-g"
      },
      "source": [
        "Fazer uma implementação computacional do algoritmo do método primal simplex para resolver um problema de programação linear (PPL) na forma padrão:"
      ]
    },
    {
      "cell_type": "markdown",
      "metadata": {
        "id": "S1A5_8Vsl9L4"
      },
      "source": [
        "minimizar $f(x) = c^t x$\n",
        "\n",
        "sujeito a: $Ax = b$\n",
        "\n",
        "$\\quad\\quad\\quad\\quad  x \\geq 0$,"
      ]
    },
    {
      "cell_type": "markdown",
      "metadata": {
        "id": "NmEzHSJyOC2B"
      },
      "source": [
        "em que: $A \\in \\mathbb{R}^{m\\times n}$, $b \\in \\mathbb{R}^m, c \\in \\mathbb{R}^n, x \\in \\mathbb{R}^n$"
      ]
    },
    {
      "cell_type": "markdown",
      "metadata": {
        "id": "68fL-O6zYyHv"
      },
      "source": [
        "# **Programa**"
      ]
    },
    {
      "cell_type": "markdown",
      "metadata": {
        "id": "zQ9qgkIArn5e"
      },
      "source": [
        "**Instruções para uso:**"
      ]
    },
    {
      "cell_type": "markdown",
      "metadata": {
        "id": "XetlwWfpswOr"
      },
      "source": [
        "Dado o PLL em sua forma padrão, para sua resolução:\n",
        "\n",
        "\n",
        "\n",
        "1.   Não deve conter variaveis artificiais\n",
        "2.   Sua submição deve ser feito por meio de um arquivo .csv, seguindo os padrões apresentados abaixo.\n",
        "    1.   Celulas vazias não serão tratadas como zero.\n",
        "    2.   O vetor dos custos deve ser a primeira linha.\n",
        "    3.   A matriz dos coeficientes das restrições deve ser a segunda linha, com o seu respectivo valor dos recursos ao final dela.\n",
        "    4. O separador padrão é a virgula e para o marcador de decimal é o ponto. Caso seu arquivo tenha outro padrão não há problema apenas informar quando perguntado.\n",
        "    5. Tomamos o problema base para o número de variaveis auxiliares iguais a m. Caso não se encaixe nesse caso indicar qual a base inicial preenchendo a linha de baixo da matriz com um x nas colunas da base e o restante com zeros. \n",
        "\n",
        "\n",
        "<figure>\n",
        "    <img src = https://drive.google.com/uc?id=1wrMiTsZVm4TzG6BVSBPAVKI-FdA-wK46>\n",
        "    <figcaption align = \"center\"> Fig.1 - Padrão de formatação do csv </figcapition>\n",
        "</figure>\n",
        "\n",
        "Exemplo numérico\n",
        "\n",
        "<figure>\n",
        "    <img src = https://drive.google.com/uc?id=1CGkt1svzrEHhWuxTrhBMSrFCaHnCr6lx>\n",
        "    <figcaption align = \"center\"> Fig.2 - exemplo </figcapition>\n",
        "</figure>"
      ]
    },
    {
      "cell_type": "markdown",
      "metadata": {
        "id": "jlOcHRKu5TPT"
      },
      "source": [
        "## **Código**\n"
      ]
    },
    {
      "cell_type": "markdown",
      "metadata": {
        "id": "zUP5FnIjoZNF"
      },
      "source": [
        "**Bibliotecas usadas**\n",
        "\n",
        "```python\n",
        "from google.colab import files # Para subimissão do arquivo de entrada\n",
        "from sympy import *            # Utilizado para imprimir as varivaeis em formato latex \n",
        "from numpy import *            # Realizar operações matematicas\n",
        "import pandas as pd            # Trata a entrada do arquivo csv e transforma nas respectivas variaveis do PL\n",
        "```"
      ]
    },
    {
      "cell_type": "markdown",
      "metadata": {
        "id": "NdUsOszpb1DY"
      },
      "source": [
        "PPL exemplo para explicação do código.\n",
        "\n",
        "\\begin{equation*}\n",
        "\\mathbf{A}=\n",
        "\\begin{pmatrix}\n",
        "    -3 & \\;4 & 1 & 0 & 0\\\\\n",
        "    \\;\\;1 & -1 & 0 & 1 & 0\\\\\n",
        "    \\;\\;1 & \\;\\;1 & 0 & 0 & 1\\\\\n",
        "\\end{pmatrix}\n",
        "\\end{equation*}"
      ]
    },
    {
      "cell_type": "markdown",
      "metadata": {
        "id": "DmwDnNYyc0R0"
      },
      "source": [
        "Ou seja\n",
        "\n",
        "\\begin{equation*}\n",
        "\\mathbf{A}=\n",
        "\\begin{pmatrix}\n",
        "    a_0 & a_1 & a_2 & a_3 & a_4\n",
        "\\end{pmatrix}\n",
        "\\end{equation*}\n",
        "\n",
        "onde $a_i$ em python é representado por:\n",
        "\n",
        "\n",
        "```\n",
        "A[:,i]\n",
        "```\n"
      ]
    },
    {
      "cell_type": "markdown",
      "metadata": {
        "id": "GVkmJqifDp5s"
      },
      "source": [
        "### **Pseudo fase I:**"
      ]
    },
    {
      "cell_type": "markdown",
      "metadata": {
        "id": "D3i0E1NXaoO6"
      },
      "source": [
        "**Definição das matrizes B e N (encontrar uma base factivel)**"
      ]
    },
    {
      "cell_type": "markdown",
      "metadata": {
        "id": "3Z_kRXKXIn2b"
      },
      "source": [
        "Encontrar as variaveis tal que $c_i = 0$"
      ]
    },
    {
      "cell_type": "markdown",
      "metadata": {
        "id": "Qr9c2ftAfEAF"
      },
      "source": [
        "```python\n",
        "def custos_zero(c):\n",
        "\n",
        "    indices_custo_zero = []\n",
        "\n",
        "    for i in range(len(c)):\n",
        "        if c[i] == 0:\n",
        "            indices_custo_zero.append(i)\n",
        "\n",
        "    return indices_custo_zero\n",
        "```"
      ]
    },
    {
      "cell_type": "markdown",
      "metadata": {
        "id": "sgs--eKlJ7Lb"
      },
      "source": [
        "Logo custos_zero nos retorna:\n",
        "\n",
        " ```indices_custo_zero = [2, 3, 4]```\n",
        "\n",
        "e caimos no **caso I**"
      ]
    },
    {
      "cell_type": "markdown",
      "metadata": {
        "id": "on6rQHYxwtqP"
      },
      "source": [
        "**Caso I:** `n > m` e `len(indices_custos_zero) == m` \n",
        "\n",
        "```python\n",
        "def gera_indices(indices_B, indices_N, indices_custo_zero, m, c):\n",
        "\n",
        "    if len(indices_custo_zero) == m:\n",
        "        indices_N = array([(i) for i in range(len(c)) if i not in indices_custo_zero])\n",
        "        indices_B = array([(i) for i in range(len(c)) if i not in indices_N])\n",
        "        return indices_N, indices_B\n",
        "```\n",
        "\n",
        "nos retornando `indices_B = [2, 3, 4] ` e `indices_N = [0, 1]`\n",
        "\n",
        "para esse caso $x_b$ é factivel pois $x_n = 0$"
      ]
    },
    {
      "cell_type": "markdown",
      "metadata": {
        "id": "g_mK1Go_fEU3"
      },
      "source": [
        "**Caso II:** `n > m` e `len(indices_custos_zero) < m`\n",
        "\n",
        "Para esse caso a base sera dada pelo usuario e sua entrada é dada por:\n",
        "\n",
        "```python\n",
        "if len(indices_custo_zero) < m:\n",
        "    entrada = pd.read_csv(Arquivo, sep = Separador, dec = Decimal)\n",
        "    indices_B = entrada.loc[m+1].to_numpy()[0:n-1]\n",
        "    indices = []\n",
        "    try:\n",
        "        for i in indices_B:\n",
        "            if i == 'x':\n",
        "                indices.append(list(indices_B).index(i))\n",
        "        \n",
        "        indices_custo_zero = indices\n",
        "    \n",
        "    except:\n",
        "        print('verifique se a base foi inserida no arquivo csv')\n",
        "```\n",
        "\n"
      ]
    },
    {
      "cell_type": "markdown",
      "metadata": {
        "id": "ydGVI6dJxDYT"
      },
      "source": [
        "com B e N definidos constroi B e N a partir dos indices"
      ]
    },
    {
      "cell_type": "markdown",
      "metadata": {
        "id": "eTPypfd2JJ6o"
      },
      "source": [
        "```python\n",
        "def constroi_B(B_indices, A, c):\n",
        "    m,n = shape(A)\n",
        "    B = zeros((m,m))\n",
        "    C_B = zeros ((1,m))[0]\n",
        "    for i in range(m):\n",
        "        B[:,i] = A[:,B_indices[i]]\n",
        "        C_B[i] = c[B_indices[i]]\n",
        "\n",
        "    return B, C_B\n",
        "\n",
        "def constroi_N(N_indices, A, c):\n",
        "    m,n = shape(A)\n",
        "    N = zeros((m,n-m))\n",
        "    C_n = zeros ((1,n-m))[0]\n",
        "    for i in range(n-m):\n",
        "        N[:,i] = A[:,N_indices[i]]\n",
        "        C_n[i] = c[N_indices[i]]\n",
        "\n",
        "    return N, C_n\n",
        "```"
      ]
    },
    {
      "cell_type": "markdown",
      "metadata": {
        "id": "GGmcFbjoEjlu"
      },
      "source": [
        "### **Fase II:**"
      ]
    },
    {
      "cell_type": "markdown",
      "metadata": {
        "id": "UChJ55Frh2oh"
      },
      "source": [
        "#### **Passo 1:** Cálculo da solução basica\n",
        "\n",
        "para $x_n = 0$\n",
        "\n",
        "Para calcular $X_b$ resolvemos o seguinte sitema linear:\n",
        "$$BX_b=b$$\n",
        "\n",
        "```python\n",
        "def X_b(B, b):\n",
        "    try:  \n",
        "        xb = linalg.solve(B,b)\n",
        "        return xb, False\n",
        "    except Exception as e:\n",
        "        print (e)\n",
        "        return zeros((shape(b))), 'Problema ilimitado'\n",
        "```"
      ]
    },
    {
      "cell_type": "markdown",
      "metadata": {
        "id": "WkmfbN5gHbwe"
      },
      "source": [
        "#### **Passo 2:**\n",
        "\n",
        "##### 2.1 Calculo do vetor multiplicador simplex\n",
        "\n",
        "Resolvemos o sistema linear: $$B^t\\lambda = c_B$$\n",
        "\n",
        "```python\n",
        "def lamb(B, C_B):\n",
        "\n",
        "    vetor_simplex = linalg.solve(transpose(B), C_B)\n",
        "    return vetor_simplex\n",
        "```\n",
        "\n",
        "##### 2.2 Custos relativos \n",
        "O custo relativo é calculado da seguinte forma:\n",
        "$$\\hat{c_i} = c_i - \\lambda^ta_i$$\n",
        "\n",
        "\n",
        "```python\n",
        "def custos_relativos(C_n, N, vetor_simplex, n, m):\n",
        "\n",
        "    c_n = zeros((1,n-m))[0]\n",
        "    for i in range(n-m):\n",
        "        c_n[i] = C_n[i] - dot(transpose(vetor_simplex), N[:,i])\n",
        "\n",
        "    return c_n\n",
        "```\n",
        "\n",
        "#### 2.3 Escolha da variavel a entrar na base\n",
        "\n",
        "Para entrar na base a varíavel deve ter custo menor que zero. Se houver mais que uma escolhemos aquela com menor valor.  \n",
        "```python\n",
        "def variavel_a_entrar(c_n, indices_N):\n",
        "\n",
        "    indice_do_que_entra = list(c_n).index(min(c_n))\n",
        "    otimo = False\n",
        "    return indices_N[indice_do_que_entra]\n",
        "```\n"
      ]
    },
    {
      "cell_type": "markdown",
      "metadata": {
        "id": "7C7Y77ztHi9n"
      },
      "source": [
        "\n",
        "#### **Passo 3:** Teste de otimalidade\n",
        "\n",
        "Caso não tenha nenhum custo menor que zero estamos na solução ótima e o programa acaba. Caso contrário continuamos as iterações.\n",
        "```python\n",
        "def otimo(c_n):\n",
        "\n",
        "    if min(c_n) >= 0:\n",
        "        return True\n",
        "    else:\n",
        "        return False\n",
        "```"
      ]
    },
    {
      "cell_type": "markdown",
      "metadata": {
        "id": "6uRzr6IDHk9u"
      },
      "source": [
        "#### **Passo 4:** Calculo da direcao simplex\n",
        "No cálculo da direção simplex fazemos: \n",
        "\n",
        "$$By=a_k,$$ onde $a_k$ é a coluna da varíavel que entrou na base.\n",
        "```python\n",
        "def direcao_simplex(B, N, indice_do_que_entra, indices_N):\n",
        "\n",
        "    y = linalg.solve(B, N[:,list(indices_N).index(indice_do_que_entra)])\n",
        "\n",
        "    return y\n",
        "```"
      ]
    },
    {
      "cell_type": "markdown",
      "metadata": {
        "id": "8wykwVKXHmV9"
      },
      "source": [
        "#### **Passo 5:** Determinar passo e variavel a sair da base\n",
        "\n",
        "Calculamos por fim o passo fazendo:\n",
        "$$\\hat{\\epsilon} = min\\{\\frac{\\hat{x_{Bi}}}{y_i}\\},$$ para $y_i > 0$. Caso não exista $y_i>0$ então as soluções serão sempre factíveis para todo $\\epsilon > 0$. Dessa forma o problema possui solução ótima ilimitada.\n",
        "\n",
        "Com o passo cálculado a váriavel a sair da base é aquela utilizada para calcular o passo. \n",
        "\n",
        "\n",
        "\n",
        "```python\n",
        "def passo(x_b, y, n, m, indices_B):\n",
        "\n",
        "    epsilon = zeros((1,m))[0]\n",
        "\n",
        "    if max(y) <= 0:\n",
        "        return 'sem solução'\n",
        "    else:\n",
        "        for i in range(m):\n",
        "            if y[i] == 0:\n",
        "                epsilon[i] = -1\n",
        "            else:\n",
        "                epsilon[i] = x_b[i]/y[i]\n",
        "\n",
        "    indice_do_que_sai = list(epsilon).index(min([(i) for i in epsilon if i > 0]))\n",
        "    indice_do_que_sai = indices_B[indice_do_que_sai]\n",
        "\n",
        "    return False, indice_do_que_sai\n",
        "\n",
        "def atualiza_BN(A, B, N, c, C_B, C_n, indices_B, indices_N, indice_do_que_entra, indice_do_que_sai):\n",
        "\n",
        "    pos_que_sai = list(indices_B).index(indice_do_que_sai)\n",
        "    indices_B[pos_que_sai] = indice_do_que_entra\n",
        "    C_B[pos_que_sai] = c[indice_do_que_entra]\n",
        "    pos_que_entra = list(indices_N).index(indice_do_que_entra)\n",
        "    C_n[pos_que_entra] = c[indice_do_que_sai]\n",
        "    indices_N[pos_que_entra] = indice_do_que_sai\n",
        "    B[:,pos_que_sai] = N[:,pos_que_entra]\n",
        "    N[:,pos_que_entra] = A[:,indice_do_que_sai]\n",
        "\n",
        "    return B, N, C_B, C_n, indices_B, indices_N\n",
        "```"
      ]
    },
    {
      "cell_type": "markdown",
      "metadata": {
        "id": "QbPuWwZvN2jr"
      },
      "source": [
        "# Programa"
      ]
    },
    {
      "cell_type": "code",
      "metadata": {
        "id": "zYsd9rOPk13v",
        "cellView": "form"
      },
      "source": [
        "#@title #Funções\n",
        "\n",
        "from google.colab import files \n",
        "from sympy import *            \n",
        "from numpy import * \n",
        "import pandas as pd    \n",
        "\n",
        "def csv_para_array(arquivo,**kwargs):\n",
        "\n",
        "    separador = ','\n",
        "    dec = '.'\n",
        "    enc = None\n",
        "    for key, value in kwargs.items():\n",
        "        if 'sep' in key:\n",
        "            separador = value[key.index('sep')]\n",
        "        if 'dec' in key:\n",
        "            dec = value[key.index('dec')]\n",
        "        if 'enc' in key:\n",
        "            enc = value[key.index('enc')]\n",
        "\n",
        "    try:\n",
        "        entrada = pd.read_csv( arquivo, sep = separador, decimal = dec, encoding = enc, header = None)\n",
        "        entrada\n",
        "        m,n = shape(entrada) #m_verdadeiro = m - 1, e o mesmo vale para n\n",
        "        c = entrada.loc[0].to_numpy()[0:n-1]\n",
        "        b = entrada.loc[:,n-1].to_numpy()[1:]\n",
        "        a = entrada.loc[1:m,0:n-2].to_numpy()\n",
        "        indices_base = entrada.loc[0].to_numpy()[0:n-1]\n",
        "\n",
        "        print_latex(a, b, c)\n",
        "        return a, b, c, n-1, m-1, indices_base\n",
        "    except Exception as e:\n",
        "        print(e)\n",
        "        return\n",
        "\n",
        "\n",
        "\n",
        "\n",
        "def valor_funcao(c, x_base):\n",
        "    return dot(transpose(c),x_base)[0]\n",
        "\n",
        "\n",
        "\n",
        "\n",
        "def custos_zero(c):\n",
        "\n",
        "    indices_custo_zero = []\n",
        "\n",
        "    for i in range(len(c)):\n",
        "        if c[i] == 0:\n",
        "            indices_custo_zero.append(i)\n",
        "\n",
        "    return indices_custo_zero\n",
        "\n",
        "\n",
        "\n",
        "\n",
        "def gera_indices(indices_B, indices_N, indices_custo_zero, m, c):\n",
        "\n",
        "    if len(indices_custo_zero) == m:\n",
        "        indices_N = array([(i) for i in range(len(c)) if i not in indices_custo_zero])\n",
        "        indices_B = array([(i) for i in range(len(c)) if i not in indices_N])\n",
        "        return indices_N, indices_B\n",
        "\n",
        "\n",
        "\n",
        "\n",
        "def constroi_B(B_indices, A, c):\n",
        "    m,n = shape(A)\n",
        "    B = zeros((m,m))\n",
        "    C_B = zeros ((1,m))[0]\n",
        "    for i in range(m):\n",
        "        B[:,i] = A[:,B_indices[i]]\n",
        "        C_B[i] = c[B_indices[i]]\n",
        "\n",
        "    return B, C_B\n",
        "\n",
        "\n",
        "\n",
        "\n",
        "def constroi_N(N_indices, A, c):\n",
        "    m,n = shape(A)\n",
        "    N = zeros((m,n-m))\n",
        "    C_n = zeros ((1,n-m))[0]\n",
        "    for i in range(n-m):\n",
        "        N[:,i] = A[:,N_indices[i]]\n",
        "        C_n[i] = c[N_indices[i]]\n",
        "\n",
        "    return N, C_n\n",
        "\n",
        "\n",
        "\n",
        "\n",
        "def constroi_BN_CBCN(B_indices, N_indices, A, c):\n",
        "    B, C_B = constroi_B(B_indices, A, c)\n",
        "    N, C_n = constroi_N(N_indices, A, c)\n",
        "    return B, N, C_B, C_n\n",
        "\n",
        "\n",
        "\n",
        "\n",
        "def X_b(B, b): #tratar para matrizes singulares\n",
        "    try:  \n",
        "        xb = linalg.solve(B,b)\n",
        "        return xb, False\n",
        "    except Exception as e:\n",
        "        print (e)\n",
        "        return zeros((shape(b))), 'Problema ilimitado'\n",
        "\n",
        "\n",
        "\n",
        "\n",
        "def lamb(B, C_B):\n",
        "\n",
        "    vetor_simplex = linalg.solve(transpose(B), C_B)\n",
        "    return vetor_simplex\n",
        "\n",
        "\n",
        "\n",
        "\n",
        "def custos_relativos(C_n, N, vetor_simplex, n, m):\n",
        "\n",
        "    c_n = zeros((1,n-m))[0]\n",
        "    for i in range(n-m):\n",
        "        c_n[i] = C_n[i] - dot(transpose(vetor_simplex), N[:,i])\n",
        "\n",
        "    return c_n\n",
        "\n",
        "\n",
        "\n",
        "\n",
        "def variavel_a_entrar(c_n, indices_N):\n",
        "\n",
        "    indice_do_que_entra = list(c_n).index(min(c_n))\n",
        "    otimo = False\n",
        "    return indices_N[indice_do_que_entra]\n",
        "\n",
        "\n",
        "\n",
        "\n",
        "def otimo(c_n):\n",
        "\n",
        "    if min(c_n) >= 0:\n",
        "        otimo = True\n",
        "        return otimo\n",
        "\n",
        "    else:\n",
        "        return False\n",
        "\n",
        "\n",
        "\n",
        "\n",
        "def direcao_simplex(B, N, indice_do_que_entra, indices_N):\n",
        "\n",
        "    y = linalg.solve(B, N[:,list(indices_N).index(indice_do_que_entra)])\n",
        "\n",
        "    return y\n",
        "\n",
        "\n",
        "\n",
        "\n",
        "def passo(x_b, y, n, m, indices_B):\n",
        "\n",
        "    epsilon = zeros((1,m))[0]\n",
        "\n",
        "    if max(y) <= 0:\n",
        "        return 'sem solução', epsilon\n",
        "    else:\n",
        "        for i in range(m):\n",
        "            if y[i] == 0:\n",
        "                epsilon[i] = -1\n",
        "            else:\n",
        "                epsilon[i] = x_b[i]/y[i]\n",
        "\n",
        "    indice_do_que_sai = list(epsilon).index(min([(i) for i in epsilon if i > 0]))\n",
        "    indice_do_que_sai = indices_B[indice_do_que_sai]\n",
        "    otimal = False\n",
        "    return otimal, indice_do_que_sai\n",
        "\n",
        "\n",
        "\n",
        "\n",
        "def atualiza_BN(A, B, N, c, C_B, C_n, indices_B, indices_N, indice_do_que_entra, indice_do_que_sai):\n",
        "\n",
        "    pos_que_sai = list(indices_B).index(indice_do_que_sai)\n",
        "    indices_B[pos_que_sai] = indice_do_que_entra\n",
        "    C_B[pos_que_sai] = c[indice_do_que_entra]\n",
        "    pos_que_entra = list(indices_N).index(indice_do_que_entra)\n",
        "    C_n[pos_que_entra] = c[indice_do_que_sai]\n",
        "    indices_N[pos_que_entra] = indice_do_que_sai\n",
        "    B[:,pos_que_sai] = N[:,pos_que_entra]\n",
        "    N[:,pos_que_entra] = A[:,indice_do_que_sai]\n",
        "\n",
        "    return B, N, C_B, C_n, indices_B, indices_N\n",
        "\n",
        "\n",
        "\n",
        "\n",
        "def print_latex(A, b, c):\n",
        "    init_printing()\n",
        "    display(Eq(S('A'),Matrix(A), evaluate = False))\n",
        "    print()\n",
        "    display(Eq(S('b'),Matrix(b), evaluate = False))\n",
        "    print()\n",
        "    display(Eq(S('c'),Matrix(c), evaluate = False))\n",
        "    print()\n",
        "    print()\n",
        "\n"
      ],
      "execution_count": null,
      "outputs": []
    },
    {
      "cell_type": "code",
      "metadata": {
        "id": "gddNM5OT5zfj",
        "cellView": "form"
      },
      "source": [
        "#@title # Entrada\n",
        "\n",
        "#@markdown ### Insira o nome do arquivo:\n",
        "#uploaded = files.upload()\n",
        "Arquivo = '.csv' #@param {type:\"string\"}\n",
        "Separador = \";\" #@param [] {allow-input: true}\n",
        "Decimal = \",\" #@param [\"\"] {allow-input: true}\n"
      ],
      "execution_count": null,
      "outputs": []
    },
    {
      "cell_type": "code",
      "metadata": {
        "id": "iYpVq7MV5xBN",
        "cellView": "form"
      },
      "source": [
        "#@title # Main\n",
        "\n",
        "uploaded = files.upload()\n",
        "\n",
        "indices_N = []\n",
        "indices_B = []\n",
        "otimal = False\n",
        "\n",
        "A, b, c, n, m, indices_base = csv_para_array(Arquivo, sep = Separador, dec = Decimal)\n",
        "\n",
        "indices_custo_zero = custos_zero(c)\n",
        "\n",
        "if len(indices_custo_zero) < m:\n",
        "    entrada = pd.read_csv(Arquivo, sep = Separador, dec = Decimal)\n",
        "    indices_B = entrada.loc[m+1].to_numpy()[0:n-1]\n",
        "    indices = []\n",
        "    try:\n",
        "        for i in indices_B:\n",
        "            if i == 'x':\n",
        "                indices.append(list(indices_B).index(i))\n",
        "        \n",
        "        indices_custo_zero = indices\n",
        "    \n",
        "    except:\n",
        "        print('verifique se a base foi inserida no arquivo csv')\n",
        "\n",
        "indices_N, indices_B = gera_indices(indices_B, indices_N, indices_custo_zero, m, c)\n",
        "\n",
        "B, N, C_B, C_n = constroi_BN_CBCN(indices_B, indices_N, A, c)\n",
        "\n",
        "t = 0\n",
        "\n",
        "while (otimal == False) and (t < 10):\n",
        "\n",
        "    x_b, otimal = X_b(B, b)\n",
        "    if otimal != False:\n",
        "        if otimal != True:\n",
        "            print(otimal)\n",
        "        break\n",
        "    vetor_simplex = lamb(B, C_B)\n",
        "    c_n  = custos_relativos(C_n, N, vetor_simplex, n, m)\n",
        "    indice_do_que_entra = variavel_a_entrar(c_n, indices_N)\n",
        "    otimal = otimo(c_n)\n",
        "    if otimal != False:\n",
        "        if otimal != True:\n",
        "            print(otimal)\n",
        "        break\n",
        "    y = direcao_simplex(B, N, indice_do_que_entra, indices_N)\n",
        "    otimal, indice_do_que_sai = passo(x_b, y, n ,m , indices_B)\n",
        "    if otimal != False:\n",
        "        if otimal != True:\n",
        "            print(otimal)\n",
        "        break\n",
        "    B, N, C_B, C_n, indices_B, indices_N = atualiza_BN(A, B, N, c, C_B, C_n, indices_B, indices_N, indice_do_que_entra, indice_do_que_sai)\n",
        "    t = t + 1\n",
        "\n",
        "x_ot = zeros((n,1))\n",
        "x_otimo = zeros((n,1))\n",
        "for j in range(1,n+1):\n",
        "    x_ot[j-1,:] = j\n",
        "for i in indices_B:\n",
        "    x_otimo[i,:] = x_b[list(indices_B).index(i)]\n",
        "if otimal == True:\n",
        "    init_printing()\n",
        "    display(Eq(S(\"x\"),Matrix(x_otimo), evaluate = False))\n",
        "    vf = valor_funcao(c,x_otimo)\n",
        "    print()\n",
        "    display(Eq(S(\"f(x)\"),vf, evaluate = False))\n"
      ],
      "execution_count": null,
      "outputs": []
    },
    {
      "cell_type": "markdown",
      "metadata": {
        "id": "APh9cU5MOcHE"
      },
      "source": [
        "Obs.: Para evitar problemas reiniciar o ambiente de execução do programa a cada teste rodado. (CTRL + M + . )"
      ]
    }
  ]
}